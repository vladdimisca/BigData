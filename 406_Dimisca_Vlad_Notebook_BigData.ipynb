{
 "cells": [
  {
   "cell_type": "markdown",
   "id": "938c16b8-5b8f-4e29-89e7-15db00820477",
   "metadata": {},
   "source": [
    "# Documentație Proiect Big Data"
   ]
  },
  {
   "cell_type": "markdown",
   "id": "5627eaf0-0aae-4df9-b963-f16325391f1d",
   "metadata": {},
   "source": [
    "## 1. Introducere"
   ]
  },
  {
   "cell_type": "markdown",
   "id": "5680c8f6-9b77-46b9-a0d8-33c33b564c58",
   "metadata": {},
   "source": [
    "### a. Prezentarea succintă a setului de date"
   ]
  },
  {
   "cell_type": "markdown",
   "id": "7ca186e3-ad97-44f6-94d5-6fa7836b9195",
   "metadata": {},
   "source": [
    "Setul de date utilizat poate fi accesat pe https://www.kaggle.com/datasets/fedesoriano/stroke-prediction-dataset și este reprezentat de un fișier de tip csv care conține caracteristici referitoare la starea de sănătate a unor indivizi, detalii personale ale acestora, precum și dacă au suferit un infarct sau nu. Acest set de date prezintă 12 coloane și conține 1350 de observații, având următoarea structură:\n",
    "-\tid: identificator unic\n",
    "-\tgender: \"Male\", \"Female\" sau \"Other\"\n",
    "-\tage: vârsta individului\n",
    "-\thypertension: 0 sau 1\n",
    "-\theart_disease: 0 sau 1\n",
    "-\tever_married: \"No\" sau \"Yes\"\n",
    "-\twork_type: \"children\", \"Govt_jov\", \"Never_worked\", \"Private\" sau \"Self-employed\"\n",
    "-\tResidence_type: \"Rural\" sau \"Urban\"\n",
    "-\tavg_glucose_level: valoarea medie a glucozei din sânge\n",
    "-\tbmi: indicele de masă corporală\n",
    "-\tsmoking_status: \"formerly smoked\", \"never smoked\", \"smokes\" sau \"Unknown\"\n",
    "-\tstroke: 0 sau 1\n"
   ]
  },
  {
   "cell_type": "markdown",
   "id": "638debe6-4677-461c-844d-0b8935e8b47b",
   "metadata": {},
   "source": [
    "### b. Enunțarea obiectivelor"
   ]
  },
  {
   "cell_type": "markdown",
   "id": "3011de0d-f8e5-4288-b5e6-caeaa76e1e03",
   "metadata": {},
   "source": [
    "Dupa curățarea și pregătirea datelor, vom utiliza diverse metode de clasificare și regresie.\n",
    "Folosind două metode de clasificare din Spark MLib, vom prezice daca indivizii analizați au sau nu probleme cu inima, iar folosind o metodă de regresie vom încerca să prezicem care este vârsta acestora în funcție de celelalte caracteristici.\n",
    "Pentru a prezice dacă un individ va avea sau nu un infarct, vom folosi o metodă de deep learning din Tensorflow.\n"
   ]
  },
  {
   "cell_type": "markdown",
   "id": "0e78fc83-1751-4b1a-866e-9532bef6bbef",
   "metadata": {},
   "source": [
    "## 2.Pregătirea, curățarea și transformarea datelor"
   ]
  },
  {
   "cell_type": "markdown",
   "id": "e66ae583-2b13-4725-979e-6787c73dc037",
   "metadata": {},
   "source": [
    "În primul rând, vom genera o sesiune Spark și vom crea un dataframe cu datele din fișierul de intrare, după care vom afișa schema datelor."
   ]
  },
  {
   "cell_type": "code",
   "execution_count": 1,
   "id": "3390a499-df63-408d-b4e0-bb08fd85f857",
   "metadata": {},
   "outputs": [
    {
     "name": "stdout",
     "output_type": "stream",
     "text": [
      "READING THE INPUT FILE\n",
      "root\n",
      " |-- id: integer (nullable = true)\n",
      " |-- gender: string (nullable = true)\n",
      " |-- age: double (nullable = true)\n",
      " |-- hypertension: integer (nullable = true)\n",
      " |-- heart_disease: integer (nullable = true)\n",
      " |-- ever_married: string (nullable = true)\n",
      " |-- work_type: string (nullable = true)\n",
      " |-- Residence_type: string (nullable = true)\n",
      " |-- avg_glucose_level: double (nullable = true)\n",
      " |-- bmi: string (nullable = true)\n",
      " |-- smoking_status: string (nullable = true)\n",
      " |-- stroke: integer (nullable = true)\n",
      "\n"
     ]
    }
   ],
   "source": [
    "from pyspark.sql import SparkSession\n",
    "from pyspark.sql.functions import mean\n",
    "from pyspark.ml.feature import StringIndexer\n",
    "from pyspark.ml.feature import VectorAssembler\n",
    "from pyspark.ml.classification import DecisionTreeClassifier\n",
    "from pyspark.ml.classification import RandomForestClassifier\n",
    "from pyspark.ml.evaluation import MulticlassClassificationEvaluator\n",
    "from pyspark.ml.regression import LinearRegression\n",
    "from pyspark.ml import Pipeline\n",
    "from pyspark.sql.functions import corr\n",
    "from pyspark.sql.functions import col\n",
    "stroke_data_file = \"Data/stroke-data.csv\"\n",
    "\n",
    "# create a spark session and read the data from the csv file\n",
    "spark = SparkSession.builder.appName('Heart Disease Prediction').getOrCreate()\n",
    "\n",
    "print(\"READING THE INPUT FILE\")\n",
    "\n",
    "df = spark.read.csv(stroke_data_file, inferSchema=True, header=True)\n",
    "\n",
    "# display the schema and the first rows from the dataframe\n",
    "df.printSchema()\n"
   ]
  },
  {
   "cell_type": "markdown",
   "id": "5993e806-fd89-4c9e-a22f-2c8426bfe3aa",
   "metadata": {},
   "source": [
    "Vom afișa primele intrări din dataframe, precum și statistici despre setul de date."
   ]
  },
  {
   "cell_type": "code",
   "execution_count": 2,
   "id": "4278b22b-97c9-4c7c-89a4-962412b19cd8",
   "metadata": {},
   "outputs": [
    {
     "name": "stdout",
     "output_type": "stream",
     "text": [
      "DISPLAY THE FIRST ROWS FROM THE DATAFRAME\n",
      "\n",
      "+-----+------+----+------------+-------------+------------+-------------+--------------+-----------------+----+---------------+------+\n",
      "|   id|gender| age|hypertension|heart_disease|ever_married|    work_type|Residence_type|avg_glucose_level| bmi| smoking_status|stroke|\n",
      "+-----+------+----+------------+-------------+------------+-------------+--------------+-----------------+----+---------------+------+\n",
      "| 9046|  Male|67.0|           0|            1|         Yes|      Private|         Urban|           228.69|36.6|formerly smoked|     1|\n",
      "|51676|Female|61.0|           0|            0|         Yes|Self-employed|         Rural|           202.21| N/A|   never smoked|     1|\n",
      "|31112|  Male|80.0|           0|            1|         Yes|      Private|         Rural|           105.92|32.5|   never smoked|     1|\n",
      "|60182|Female|49.0|           0|            0|         Yes|      Private|         Urban|           171.23|34.4|         smokes|     1|\n",
      "| 1665|Female|79.0|           1|            0|         Yes|Self-employed|         Rural|           174.12|  24|   never smoked|     1|\n",
      "|56669|  Male|81.0|           0|            0|         Yes|      Private|         Urban|           186.21|  29|formerly smoked|     1|\n",
      "|53882|  Male|74.0|           1|            1|         Yes|      Private|         Rural|            70.09|27.4|   never smoked|     1|\n",
      "|10434|Female|69.0|           0|            0|          No|      Private|         Urban|            94.39|22.8|   never smoked|     1|\n",
      "|27419|Female|59.0|           0|            0|         Yes|      Private|         Rural|            76.15| N/A|        Unknown|     1|\n",
      "|60491|Female|78.0|           0|            0|         Yes|      Private|         Urban|            58.57|24.2|        Unknown|     1|\n",
      "+-----+------+----+------------+-------------+------------+-------------+--------------+-----------------+----+---------------+------+\n",
      "only showing top 10 rows\n",
      "\n"
     ]
    }
   ],
   "source": [
    "print(\"DISPLAY THE FIRST ROWS FROM THE DATAFRAME\\n\")\n",
    "df.show(10)\n"
   ]
  },
  {
   "cell_type": "code",
   "execution_count": 3,
   "id": "a69c520d-abf4-4387-bd17-0a7632503ce2",
   "metadata": {},
   "outputs": [
    {
     "name": "stdout",
     "output_type": "stream",
     "text": [
      "DISPLAY STATISTICS\n",
      "\n",
      "+-------+-----------------+------+------------------+-------------------+-------------------+------------+---------+--------------+------------------+------------------+--------------+-------------------+\n",
      "|summary|               id|gender|               age|       hypertension|      heart_disease|ever_married|work_type|Residence_type| avg_glucose_level|               bmi|smoking_status|             stroke|\n",
      "+-------+-----------------+------+------------------+-------------------+-------------------+------------+---------+--------------+------------------+------------------+--------------+-------------------+\n",
      "|  count|             1349|  1349|              1349|               1349|               1349|        1349|     1349|          1349|              1349|              1349|          1349|               1349|\n",
      "|   mean|36312.73610081542|  null| 46.94315789473684|0.12157153446997776|0.07190511489992588|        null|     null|          null|110.13786508524811|29.587705559906034|          null|0.18458117123795403|\n",
      "| stddev|21110.94009562593|  null|22.828738378522374|0.32691148488807154| 0.2584265386074109|        null|     null|          null| 48.55573321381666| 7.903728980701737|          null| 0.3881012979610382|\n",
      "|    min|               84|Female|              0.24|                  0|                  0|          No| Govt_job|         Rural|             55.22|                12|       Unknown|                  0|\n",
      "|    max|            72918|  Male|              82.0|                  1|                  1|         Yes| children|         Urban|            271.74|               N/A|        smokes|                  1|\n",
      "+-------+-----------------+------+------------------+-------------------+-------------------+------------+---------+--------------+------------------+------------------+--------------+-------------------+\n",
      "\n"
     ]
    }
   ],
   "source": [
    "print(\"DISPLAY STATISTICS\\n\")\n",
    "\n",
    "# display statistics about the dataset\n",
    "df.describe().show()\n"
   ]
  },
  {
   "cell_type": "markdown",
   "id": "bb8c57aa-549e-458e-b914-551b86a8de09",
   "metadata": {},
   "source": [
    "Afișăm distribuția categoriilor pentru fiecare variabilă categorială, după care le transformăm folosind StringIndexer."
   ]
  },
  {
   "cell_type": "code",
   "execution_count": 4,
   "id": "4ef7f1ca-f786-451c-bb09-98a0c77ba6e0",
   "metadata": {},
   "outputs": [
    {
     "name": "stdout",
     "output_type": "stream",
     "text": [
      "DISPLAY CATEGORICAL VARIABLES COUNT\n",
      "\n",
      "+------+-----+\n",
      "|gender|count|\n",
      "+------+-----+\n",
      "|Female|  795|\n",
      "|  Male|  554|\n",
      "+------+-----+\n",
      "\n",
      "+------------+-----+\n",
      "|ever_married|count|\n",
      "+------------+-----+\n",
      "|          No|  416|\n",
      "|         Yes|  933|\n",
      "+------------+-----+\n",
      "\n",
      "+-------------+-----+\n",
      "|    work_type|count|\n",
      "+-------------+-----+\n",
      "| Never_worked|    5|\n",
      "|Self-employed|  230|\n",
      "|      Private|  811|\n",
      "|     children|  142|\n",
      "|     Govt_job|  161|\n",
      "+-------------+-----+\n",
      "\n",
      "+--------------+-----+\n",
      "|Residence_type|count|\n",
      "+--------------+-----+\n",
      "|         Urban|  667|\n",
      "|         Rural|  682|\n",
      "+--------------+-----+\n",
      "\n",
      "+---------------+-----+\n",
      "| smoking_status|count|\n",
      "+---------------+-----+\n",
      "|         smokes|  202|\n",
      "|        Unknown|  369|\n",
      "|   never smoked|  530|\n",
      "|formerly smoked|  248|\n",
      "+---------------+-----+\n",
      "\n"
     ]
    }
   ],
   "source": [
    "print(\"DISPLAY CATEGORICAL VARIABLES COUNT\\n\")\n",
    "\n",
    "df.groupBy('gender').count().show()\n",
    "df.groupBy('ever_married').count().show()\n",
    "df.groupBy('work_type').count().show()\n",
    "df.groupBy('Residence_type').count().show()\n",
    "df.groupBy('smoking_status').count().show()\n"
   ]
  },
  {
   "cell_type": "code",
   "execution_count": 5,
   "id": "7411cb82-d6e2-45c5-b4e4-98033ec91467",
   "metadata": {},
   "outputs": [],
   "source": [
    "# transform relevant columns containing string values into categorical variables using StringIndexer\n",
    "columns_to_transform = [\n",
    "    \"gender\",\n",
    "    \"ever_married\",\n",
    "    \"work_type\",\n",
    "    \"Residence_type\",\n",
    "    \"smoking_status\"\n",
    "]\n",
    "\n",
    "indexers = []\n",
    "for column in columns_to_transform:\n",
    "    indexers.append(StringIndexer(inputCol=column, outputCol=column + \"_cat\"))\n"
   ]
  },
  {
   "cell_type": "markdown",
   "id": "95e5ca28-102f-4362-9539-b94d52b8deea",
   "metadata": {},
   "source": [
    "Aplicăm următoarele operații:\n",
    "-\tTransformăm coloana bmi din string în double\n",
    "-\tȘtergem înregistrările în care valoarea lui bmi este null sau smoking_status este Unknown\n",
    "-\tCompletăm valorile lipsă ale lui bmi cu media de pe coloana respectivă\n",
    "-\tȘtergem coloana id, deoarece nu ne este de folos"
   ]
  },
  {
   "cell_type": "code",
   "execution_count": 6,
   "id": "1294cdb2-8783-4ef8-8cea-72c85cab15a4",
   "metadata": {},
   "outputs": [
    {
     "name": "stdout",
     "output_type": "stream",
     "text": [
      "CLEANING THE DATA\n"
     ]
    }
   ],
   "source": [
    "print(\"CLEANING THE DATA\")\n",
    "\n",
    "# cast columns containing numeric values (but provided as string) to double ('bmi')\n",
    "df = df.withColumn(\"bmi\", df[\"bmi\"].cast(\"double\"))\n",
    "\n",
    "# remove the rows where bmi is null and smoking_status is unknown\n",
    "df = df.filter((col(\"bmi\").isNotNull()) | (col(\"smoking_status\") != \"Unknown\"))\n",
    "\n",
    "# fill the unknown bmi values with the mean value\n",
    "df = df.na.fill(df.select(mean(df[\"bmi\"])).collect()[0][0], [\"bmi\"])\n",
    "\n",
    "# drop irrelevant columns ('id')\n",
    "df = df.drop(\"id\")\n"
   ]
  },
  {
   "cell_type": "markdown",
   "id": "247fa373-f5de-474f-b9b9-858b52d567f6",
   "metadata": {},
   "source": [
    "## 3. Aplicarea a cel puțin două metode ML"
   ]
  },
  {
   "cell_type": "markdown",
   "id": "36908e55-e8a9-45cf-99a4-110cc674ff4d",
   "metadata": {},
   "source": [
    "### Metode de clasificare\n",
    "Prin intermediul metodelor de clasificare dorim să prezicem dacă un individ are sau nu probleme cu inima.\n",
    "Folosind un VectorAssembler vom asambla coloanele relevante din dataframe într-un vector denumit features. Deoarece dorim să prezicem dacă un individ are sau nu probleme cu inima, vom exclude această coloană, precum și id-ul, care este irelevant, iar pentru variabilele categoriale vom folosi sufixul _cat, așa cum a fost precizat în StringIndexer."
   ]
  },
  {
   "cell_type": "code",
   "execution_count": 7,
   "id": "967c3444-2b73-404d-bbdf-782df4a0b87b",
   "metadata": {},
   "outputs": [],
   "source": [
    "# assemble the relevant columns in a vector of features for classification\n",
    "assembler = VectorAssembler(\n",
    "    inputCols=[\n",
    "        \"gender_cat\",\n",
    "        \"age\",\n",
    "        \"hypertension\",\n",
    "        \"stroke\",\n",
    "        \"ever_married_cat\",\n",
    "        \"work_type_cat\",\n",
    "        \"Residence_type_cat\",\n",
    "        \"avg_glucose_level\",\n",
    "        \"bmi\",\n",
    "        \"smoking_status_cat\"\n",
    "    ],\n",
    "    outputCol=\"features\")\n"
   ]
  },
  {
   "cell_type": "markdown",
   "id": "c04fe833-8da0-418c-bfa4-65422621a97a",
   "metadata": {},
   "source": [
    "Vom crea un pipeline cu indexerii definiți anterior și cu assembler-ul, pe care îl vom antrena și vom obține dataframe-ul în forma dorită."
   ]
  },
  {
   "cell_type": "code",
   "execution_count": 8,
   "id": "822a697c-96a2-45ae-9521-660dd14644ca",
   "metadata": {},
   "outputs": [
    {
     "name": "stdout",
     "output_type": "stream",
     "text": [
      "CREATE A PIPELINE WITH THE INDEXERS AND ASSEMBLER\n",
      "\n"
     ]
    }
   ],
   "source": [
    "print(\"CREATE A PIPELINE WITH THE INDEXERS AND ASSEMBLER\\n\")\n",
    "\n",
    "# create a Pipeline with the previously defined indexers and assembler\n",
    "pipeline = Pipeline(stages=[*indexers, assembler])\n",
    "\n",
    "# train the pipeline\n",
    "output = pipeline.fit(df).transform(df)"
   ]
  },
  {
   "cell_type": "markdown",
   "id": "0a904297-8068-4a84-abeb-5565b66d1cb3",
   "metadata": {},
   "source": [
    "Vom afișa coloanele features și heart_disease din dataframe-ul obținut."
   ]
  },
  {
   "cell_type": "code",
   "execution_count": 9,
   "id": "ca8c1df1-afb0-47d4-9bad-71f8fc828ebb",
   "metadata": {},
   "outputs": [
    {
     "name": "stdout",
     "output_type": "stream",
     "text": [
      "DISPLAY 'features' AND 'heart_disease' COLUMNS\n",
      "+--------------------+-------------+\n",
      "|            features|heart_disease|\n",
      "+--------------------+-------------+\n",
      "|[1.0,67.0,0.0,1.0...|            1|\n",
      "|(10,[1,3,5,7,8],[...|            0|\n",
      "|(10,[0,1,3,7,8],[...|            1|\n",
      "|[0.0,49.0,0.0,1.0...|            0|\n",
      "|[0.0,79.0,1.0,1.0...|            0|\n",
      "|[1.0,81.0,0.0,1.0...|            0|\n",
      "|[1.0,74.0,1.0,1.0...|            1|\n",
      "|[0.0,69.0,0.0,1.0...|            0|\n",
      "|[0.0,78.0,0.0,1.0...|            0|\n",
      "|(10,[1,2,3,7,8],[...|            0|\n",
      "|[0.0,61.0,0.0,1.0...|            1|\n",
      "|[0.0,54.0,0.0,1.0...|            0|\n",
      "|(10,[1,3,6,7,8],[...|            1|\n",
      "|[0.0,50.0,1.0,1.0...|            0|\n",
      "|[1.0,64.0,0.0,1.0...|            1|\n",
      "|[1.0,75.0,1.0,1.0...|            0|\n",
      "|[0.0,60.0,0.0,1.0...|            0|\n",
      "|[0.0,71.0,0.0,1.0...|            0|\n",
      "|[0.0,52.0,1.0,1.0...|            0|\n",
      "|[0.0,79.0,0.0,1.0...|            0|\n",
      "+--------------------+-------------+\n",
      "only showing top 20 rows\n",
      "\n"
     ]
    }
   ],
   "source": [
    "# display 'features' and 'heart_disease' columns\n",
    "print(\"DISPLAY 'features' AND 'heart_disease' COLUMNS\")\n",
    "output.select(\"features\", \"heart_disease\").show()"
   ]
  },
  {
   "cell_type": "markdown",
   "id": "58ec4beb-4551-42b5-8e66-3535ba9af830",
   "metadata": {},
   "source": [
    "Divizăm dataframe-ul în date de antrenament (70%) și date de testare (30%)."
   ]
  },
  {
   "cell_type": "code",
   "execution_count": 10,
   "id": "be85213f-e5df-41e4-82d3-d4bb09212a56",
   "metadata": {},
   "outputs": [],
   "source": [
    "final_data = output.select(\"features\", \"heart_disease\")\n",
    "\n",
    "# divide the dataset into train and test subsets\n",
    "train_data, test_data = final_data.randomSplit([0.7, 0.3])"
   ]
  },
  {
   "cell_type": "markdown",
   "id": "eb107f08-10ee-4e66-97e4-1a5b64362094",
   "metadata": {},
   "source": [
    "Vom aplica două metode de clasificare, anume DecisionTreeClassifier și RandomForestClassifier, pentru a prezice dacă indivizii au sau nu probleme cu inima.\n",
    "Vom antrena modelul DecisionTreeClassifier și vom afișa acuratețea acestuia."
   ]
  },
  {
   "cell_type": "code",
   "execution_count": 11,
   "id": "d4e7952c-a973-4e34-a6fb-a8b04a94dc53",
   "metadata": {},
   "outputs": [
    {
     "name": "stdout",
     "output_type": "stream",
     "text": [
      "DECISION TREE CLASSIFIER ACCURACY:  0.9212598425196851\n"
     ]
    }
   ],
   "source": [
    "# Use decision tree classifier\n",
    "dt = DecisionTreeClassifier(labelCol=\"heart_disease\", featuresCol=\"features\")\n",
    "dt_model = dt.fit(train_data)\n",
    "\n",
    "predictions = dt_model.transform(test_data)\n",
    "evaluator = MulticlassClassificationEvaluator(\n",
    "    predictionCol=\"prediction\", labelCol=\"heart_disease\", metricName=\"accuracy\")\n",
    "accuracy = evaluator.evaluate(predictions)\n",
    "print(\"DECISION TREE CLASSIFIER ACCURACY: \", accuracy)"
   ]
  },
  {
   "cell_type": "markdown",
   "id": "387a873c-6063-4e87-adb4-373e332a9743",
   "metadata": {},
   "source": [
    "Tot cu scopul de a prezice dacă indivizii au probleme cu inima, vom antrena un model de RandomForestClassifier și vom afișa acuratețea acestuia."
   ]
  },
  {
   "cell_type": "code",
   "execution_count": 12,
   "id": "dacef7f0-1a98-48fa-a974-ef885ae7ade2",
   "metadata": {},
   "outputs": [
    {
     "name": "stdout",
     "output_type": "stream",
     "text": [
      "RANDOM FOREST CLASSIFIER ACCURACY:  0.9501312335958005\n"
     ]
    }
   ],
   "source": [
    "# Use random forest classifier\n",
    "rf = RandomForestClassifier(labelCol=\"heart_disease\", featuresCol=\"features\", numTrees=10)\n",
    "rf_model = rf.fit(train_data)\n",
    "\n",
    "predictions = rf_model.transform(test_data)\n",
    "evaluator = MulticlassClassificationEvaluator(\n",
    "    predictionCol=\"prediction\", labelCol=\"heart_disease\", metricName=\"accuracy\")\n",
    "accuracy = evaluator.evaluate(predictions)\n",
    "print(\"RANDOM FOREST CLASSIFIER ACCURACY: \", accuracy)"
   ]
  },
  {
   "cell_type": "markdown",
   "id": "8363d914-8b69-4d07-a4ac-803e29870355",
   "metadata": {},
   "source": [
    "### Metode de regresie\n",
    "\n",
    "Cu scopul de a prezice vârsta unui individ în funcție de celelalte caracteristici, am folosit metoda de regresie LinearRegression. \n",
    "Folosind un alt VectorAssembler vom asambla coloanele relevante din dataframe într-un vector denumit features. Deoarece dorim să prezicem vârsta unui individ, vom exclude această coloană, precum și id-ul, care este irelevant, iar pentru variabilele categoriale vom folosi sufixul _cat, așa cum a fost precizat în StringIndexer.\n"
   ]
  },
  {
   "cell_type": "code",
   "execution_count": 13,
   "id": "2a74057e-0ee9-43bc-9b9f-c396ef9adf02",
   "metadata": {},
   "outputs": [],
   "source": [
    "# assemble the relevant columns in a vector of features for regression\n",
    "assembler = VectorAssembler(\n",
    "    inputCols=[\n",
    "        \"gender_cat\",\n",
    "        \"hypertension\",\n",
    "        \"heart_disease\",\n",
    "        \"ever_married_cat\",\n",
    "        \"work_type_cat\",\n",
    "        \"Residence_type_cat\",\n",
    "        \"avg_glucose_level\",\n",
    "        \"bmi\",\n",
    "        \"smoking_status_cat\",\n",
    "        \"stroke\"\n",
    "    ],\n",
    "    outputCol=\"features\")"
   ]
  },
  {
   "cell_type": "markdown",
   "id": "8121071a-9e22-4b3a-9d18-e841b85ea960",
   "metadata": {},
   "source": [
    "Vom crea un nou pipeline cu indexerii definiți anterior și cu noul assembler-ul, pe care îl vom antrena și vom obține dataframe-ul în forma dorită."
   ]
  },
  {
   "cell_type": "code",
   "execution_count": 14,
   "id": "94a13b24-362a-41c1-b357-944c73a2ab2a",
   "metadata": {},
   "outputs": [
    {
     "name": "stdout",
     "output_type": "stream",
     "text": [
      "CREATE A PIPELINE WITH THE INDEXERS AND ASSEMBLER\n",
      "\n"
     ]
    }
   ],
   "source": [
    "print(\"CREATE A PIPELINE WITH THE INDEXERS AND ASSEMBLER\\n\")\n",
    "\n",
    "pipeline = Pipeline(stages=[*indexers, assembler])\n",
    "output = pipeline.fit(df).transform(df)"
   ]
  },
  {
   "cell_type": "markdown",
   "id": "af9863a4-3d39-4272-8546-dce93986e754",
   "metadata": {},
   "source": [
    "Vom afișa coloanele features și age din dataframe-ul obținut."
   ]
  },
  {
   "cell_type": "code",
   "execution_count": 15,
   "id": "d8dbc705-ec1a-4925-b3b5-0c9489846611",
   "metadata": {},
   "outputs": [
    {
     "name": "stdout",
     "output_type": "stream",
     "text": [
      "DISPLAY 'features' AND 'age' COLUMNS\n",
      "+--------------------+----+\n",
      "|            features| age|\n",
      "+--------------------+----+\n",
      "|[1.0,0.0,1.0,0.0,...|67.0|\n",
      "|(10,[4,6,7,9],[1....|61.0|\n",
      "|(10,[0,2,6,7,9],[...|80.0|\n",
      "|(10,[5,6,7,8,9],[...|49.0|\n",
      "|(10,[1,4,6,7,9],[...|79.0|\n",
      "|[1.0,0.0,0.0,0.0,...|81.0|\n",
      "|[1.0,1.0,1.0,0.0,...|74.0|\n",
      "|(10,[3,5,6,7,9],[...|69.0|\n",
      "|(10,[5,6,7,8,9],[...|78.0|\n",
      "|(10,[1,6,7,9],[1....|81.0|\n",
      "|[0.0,0.0,1.0,0.0,...|61.0|\n",
      "|(10,[5,6,7,8,9],[...|54.0|\n",
      "|(10,[2,5,6,7,9],[...|79.0|\n",
      "|(10,[1,4,6,7,9],[...|50.0|\n",
      "|[1.0,0.0,1.0,0.0,...|64.0|\n",
      "|[1.0,1.0,0.0,0.0,...|75.0|\n",
      "|(10,[3,5,6,7,9],[...|60.0|\n",
      "|(10,[4,6,7,8,9],[...|71.0|\n",
      "|[0.0,1.0,0.0,0.0,...|52.0|\n",
      "|(10,[4,5,6,7,9],[...|79.0|\n",
      "+--------------------+----+\n",
      "only showing top 20 rows\n",
      "\n"
     ]
    }
   ],
   "source": [
    "# display 'features' and 'age' columns\n",
    "print(\"DISPLAY 'features' AND 'age' COLUMNS\")\n",
    "output.select(\"features\", \"age\").show()"
   ]
  },
  {
   "cell_type": "markdown",
   "id": "2a3d2d46-4984-4e58-9c9d-c3a91c799f60",
   "metadata": {},
   "source": [
    "Divizăm dataframe-ul în date de antrenament (70%) și date de testare (30%)."
   ]
  },
  {
   "cell_type": "code",
   "execution_count": 16,
   "id": "5308f305-894c-404c-be0a-f102e6c8ac81",
   "metadata": {},
   "outputs": [],
   "source": [
    "final_data = output.select(\"features\", \"age\")\n",
    "\n",
    "# divide the dataset into train and test subsets\n",
    "train_data, test_data = final_data.randomSplit([0.7, 0.3])"
   ]
  },
  {
   "cell_type": "markdown",
   "id": "2a348de2-827d-4e35-aa29-7fc6df2b71a3",
   "metadata": {},
   "source": [
    "Antrenăm un model de LinearRegression și evaluăm rezultatele."
   ]
  },
  {
   "cell_type": "code",
   "execution_count": 17,
   "id": "cfb2c370-8019-4d1e-948a-c81b9211fc60",
   "metadata": {},
   "outputs": [
    {
     "name": "stdout",
     "output_type": "stream",
     "text": [
      "REGRESSION RESULTS\n",
      "\n",
      "RMSE: 14.935503934913239\n",
      "MSE: 223.06927778980887\n",
      "R2: 0.5452015708215026\n"
     ]
    }
   ],
   "source": [
    "lr = LinearRegression(labelCol=\"age\", predictionCol=\"prediction\", regParam=0.1)\n",
    "lr_model = lr.fit(train_data)\n",
    "\n",
    "# evaluate the model\n",
    "test_results = lr_model.evaluate(test_data)\n",
    "\n",
    "# display evaluation results\n",
    "print(\"REGRESSION RESULTS\\n\")\n",
    "print(\"RMSE: {}\".format(test_results.rootMeanSquaredError))\n",
    "print(\"MSE: {}\".format(test_results.meanSquaredError))\n",
    "print(\"R2: {}\".format(test_results.r2))"
   ]
  },
  {
   "cell_type": "markdown",
   "id": "afc97222-f4a0-4b49-bd2c-d541e488be56",
   "metadata": {},
   "source": [
    "Afișăm corelația dintre coloana age și alte coloane."
   ]
  },
  {
   "cell_type": "code",
   "execution_count": 18,
   "id": "b07e3633-f03a-4b95-be04-d64551a1a0f9",
   "metadata": {},
   "outputs": [
    {
     "name": "stdout",
     "output_type": "stream",
     "text": [
      "\n",
      "DISPLAY CORRELATIONS BETWEEN 'age' AND OTHER COLUMNS\n",
      "+------------------+\n",
      "| corr(age, stroke)|\n",
      "+------------------+\n",
      "|0.4279822655391694|\n",
      "+------------------+\n",
      "\n",
      "+------------------------+\n",
      "|corr(age, heart_disease)|\n",
      "+------------------------+\n",
      "|      0.2796453968253489|\n",
      "+------------------------+\n",
      "\n",
      "+-----------------------+\n",
      "|corr(age, hypertension)|\n",
      "+-----------------------+\n",
      "|      0.293060047422406|\n",
      "+-----------------------+\n",
      "\n"
     ]
    }
   ],
   "source": [
    "# Display the correlation between age and other columns\n",
    "print(\"\\nDISPLAY CORRELATIONS BETWEEN 'age' AND OTHER COLUMNS\")\n",
    "df.select(corr('age', 'stroke')).show()\n",
    "df.select(corr('age', 'heart_disease')).show()\n",
    "df.select(corr('age', 'hypertension')).show()"
   ]
  },
  {
   "cell_type": "markdown",
   "id": "da048e50-274f-4026-ae1d-15d79d89814c",
   "metadata": {},
   "source": [
    "Afișăm rezultatele prezise de modelul nostru și valorile reale."
   ]
  },
  {
   "cell_type": "code",
   "execution_count": 19,
   "id": "1f9ac2f1-abf2-4ef9-8eaf-79cd3aefc004",
   "metadata": {},
   "outputs": [
    {
     "name": "stdout",
     "output_type": "stream",
     "text": [
      "APPLY THE MODEL ON UNLABELED DATA AND DISPLAY PREDICTIONS\n",
      "\n",
      "+--------------------+------------------+\n",
      "|            features|        prediction|\n",
      "+--------------------+------------------+\n",
      "|(10,[0,1,4,6,7],[...|  54.6047899218501|\n",
      "|(10,[0,1,4,6,7],[...| 55.16018389290098|\n",
      "|(10,[0,1,4,6,7],[...|  58.0864672219196|\n",
      "|(10,[0,1,4,6,7],[...| 55.41739648653904|\n",
      "|(10,[0,1,5,6,7],[...| 59.53761323840159|\n",
      "|(10,[0,1,5,6,7],[...|60.533727717132635|\n",
      "|(10,[0,1,5,6,7],[...| 61.32128206785085|\n",
      "|(10,[0,1,6,7],[1....| 58.28495497163305|\n",
      "|(10,[0,1,6,7],[1....| 58.35706657245277|\n",
      "|(10,[0,1,6,7],[1....| 62.83597690063787|\n",
      "|(10,[0,1,6,7,8],[...| 56.16639145829051|\n",
      "|(10,[0,1,6,7,8],[...| 56.32587912580514|\n",
      "|(10,[0,1,6,7,8],[...| 60.15624308718938|\n",
      "|(10,[0,1,6,7,9],[...| 78.73747413825396|\n",
      "|(10,[0,2,6,7,8],[...| 66.50901776218788|\n",
      "|(10,[0,3,5,6,7],[...| 28.14177055924835|\n",
      "|(10,[0,3,5,6,7],[...| 28.42838161775106|\n",
      "|(10,[0,3,5,6,7],[...|28.680182393510623|\n",
      "|(10,[0,3,5,6,7],[...|28.850001411445497|\n",
      "|(10,[0,3,5,6,7],[...|29.292591318371784|\n",
      "+--------------------+------------------+\n",
      "only showing top 20 rows\n",
      "\n"
     ]
    }
   ],
   "source": [
    "# apply the model on unlabeled data\n",
    "print(\"APPLY THE MODEL ON UNLABELED DATA AND DISPLAY PREDICTIONS\\n\")\n",
    "unlabeled_data = test_data.select(\"features\")\n",
    "predictions = lr_model.transform(unlabeled_data)\n",
    "predictions.show()"
   ]
  },
  {
   "cell_type": "code",
   "execution_count": 20,
   "id": "82842fc9-f495-4acd-bf9f-cfe558daf993",
   "metadata": {},
   "outputs": [
    {
     "name": "stdout",
     "output_type": "stream",
     "text": [
      "DISPLAY REAL VALUES\n",
      "+--------------------+----+\n",
      "|            features| age|\n",
      "+--------------------+----+\n",
      "|(10,[0,1,4,6,7],[...|76.0|\n",
      "|(10,[0,1,4,6,7],[...|55.0|\n",
      "|(10,[0,1,4,6,7],[...|64.0|\n",
      "|(10,[0,1,4,6,7],[...|40.0|\n",
      "|(10,[0,1,5,6,7],[...|51.0|\n",
      "|(10,[0,1,5,6,7],[...|58.0|\n",
      "|(10,[0,1,5,6,7],[...|47.0|\n",
      "|(10,[0,1,6,7],[1....|70.0|\n",
      "|(10,[0,1,6,7],[1....|66.0|\n",
      "|(10,[0,1,6,7],[1....|60.0|\n",
      "|(10,[0,1,6,7,8],[...|46.0|\n",
      "|(10,[0,1,6,7,8],[...|64.0|\n",
      "|(10,[0,1,6,7,8],[...|54.0|\n",
      "|(10,[0,1,6,7,9],[...|56.0|\n",
      "|(10,[0,2,6,7,8],[...|53.0|\n",
      "|(10,[0,3,5,6,7],[...|20.0|\n",
      "|(10,[0,3,5,6,7],[...|36.0|\n",
      "|(10,[0,3,5,6,7],[...|17.0|\n",
      "|(10,[0,3,5,6,7],[...|29.0|\n",
      "|(10,[0,3,5,6,7],[...|29.0|\n",
      "+--------------------+----+\n",
      "only showing top 20 rows\n",
      "\n"
     ]
    }
   ],
   "source": [
    "print(\"DISPLAY REAL VALUES\")\n",
    "test_data.show()"
   ]
  },
  {
   "cell_type": "markdown",
   "id": "8df680ab-8786-4274-b2da-3db06687b78a",
   "metadata": {},
   "source": [
    "## 4. Utilizarea a cel puțin unui Data Pipeline"
   ]
  },
  {
   "cell_type": "markdown",
   "id": "9638226c-9c0f-470d-b5a9-53cff34a9979",
   "metadata": {},
   "source": [
    "După cum am arătat în capitolul anterior, am folosit două Data Pipeline-uri pentru procesarea datelor, unul pentru partea de clasificare și unul pentru partea de regresie."
   ]
  },
  {
   "cell_type": "markdown",
   "id": "c506f23d-234b-43bc-ad8c-980dbf22b72e",
   "metadata": {},
   "source": [
    "## 5. Aplicarea a cel puțin unei metode DL"
   ]
  },
  {
   "cell_type": "markdown",
   "id": "1edccd9c-f88d-4320-8eae-41f4afc58ff3",
   "metadata": {},
   "source": [
    "Scopul utilizării unei metode DL este de a prezice dacă indivizii vor avea sau nu vor avea un infarct. \n",
    "În primul rând, va fi nevoie să citim datele din setul de date și să le încărcăm într-un DataFrame."
   ]
  },
  {
   "cell_type": "code",
   "execution_count": 21,
   "id": "dd892130-0c50-4edc-adc9-9ba889d1313d",
   "metadata": {},
   "outputs": [
    {
     "name": "stdout",
     "output_type": "stream",
     "text": [
      "READING FROM THE INPUT FILE\n",
      "\n"
     ]
    }
   ],
   "source": [
    "import pandas as pd\n",
    "import seaborn as sns\n",
    "import matplotlib.pyplot as plt\n",
    "from tensorflow.keras.models import Sequential\n",
    "from tensorflow.keras.layers import Dense, Activation, Dropout\n",
    "from tensorflow.keras.callbacks import EarlyStopping\n",
    "from sklearn.model_selection import train_test_split\n",
    "from sklearn.preprocessing import MinMaxScaler\n",
    "from sklearn.metrics import classification_report\n",
    "\n",
    "stroke_file = \"Data/stroke-data.csv\"\n",
    "\n",
    "print(\"READING FROM THE INPUT FILE\\n\")\n",
    "\n",
    "# read the data from the csv file\n",
    "df = pd.read_csv(stroke_file)"
   ]
  },
  {
   "cell_type": "markdown",
   "id": "95c9a13b-086a-4c46-8237-ac38dcc7e35d",
   "metadata": {},
   "source": [
    "Afișăm primele linii din setul de date."
   ]
  },
  {
   "cell_type": "code",
   "execution_count": 22,
   "id": "81ec6127-0c23-4991-b5a8-92a5fcd8d6f6",
   "metadata": {},
   "outputs": [
    {
     "name": "stdout",
     "output_type": "stream",
     "text": [
      "DISPLAY THE FIRST ROWS FROM THE DATAFRAME\n",
      "\n",
      "      id  gender   age  hypertension  heart_disease ever_married  \\\n",
      "0   9046    Male  67.0             0              1          Yes   \n",
      "1  51676  Female  61.0             0              0          Yes   \n",
      "2  31112    Male  80.0             0              1          Yes   \n",
      "3  60182  Female  49.0             0              0          Yes   \n",
      "4   1665  Female  79.0             1              0          Yes   \n",
      "\n",
      "       work_type Residence_type  avg_glucose_level   bmi   smoking_status  \\\n",
      "0        Private          Urban             228.69  36.6  formerly smoked   \n",
      "1  Self-employed          Rural             202.21   NaN     never smoked   \n",
      "2        Private          Rural             105.92  32.5     never smoked   \n",
      "3        Private          Urban             171.23  34.4           smokes   \n",
      "4  Self-employed          Rural             174.12  24.0     never smoked   \n",
      "\n",
      "   stroke  \n",
      "0       1  \n",
      "1       1  \n",
      "2       1  \n",
      "3       1  \n",
      "4       1  \n"
     ]
    }
   ],
   "source": [
    "print(\"DISPLAY THE FIRST ROWS FROM THE DATAFRAME\\n\")\n",
    "print(df.head())"
   ]
  },
  {
   "cell_type": "markdown",
   "id": "78f4e752-6527-4945-84e1-7143da69429c",
   "metadata": {},
   "source": [
    "Verificăm dacă există valori null și observăm că există 72 de valori null pe coloana bmi."
   ]
  },
  {
   "cell_type": "code",
   "execution_count": 23,
   "id": "c33c0034-66cb-491f-8b1a-f1922ce536c0",
   "metadata": {},
   "outputs": [
    {
     "name": "stdout",
     "output_type": "stream",
     "text": [
      "\n",
      "CHECK IF THERE ARE NULL VALUES\n",
      "\n",
      "id                    0\n",
      "gender                0\n",
      "age                   0\n",
      "hypertension          0\n",
      "heart_disease         0\n",
      "ever_married          0\n",
      "work_type             0\n",
      "Residence_type        0\n",
      "avg_glucose_level     0\n",
      "bmi                  72\n",
      "smoking_status        0\n",
      "stroke                0\n",
      "dtype: int64\n"
     ]
    }
   ],
   "source": [
    "print(\"\\nCHECK IF THERE ARE NULL VALUES\\n\")\n",
    "print(df.isnull().sum())"
   ]
  },
  {
   "cell_type": "markdown",
   "id": "b50e82bb-9abc-4018-8c39-0f2e8885b58c",
   "metadata": {},
   "source": [
    "Afișăm statistici descriptive ale setului de date:"
   ]
  },
  {
   "cell_type": "code",
   "execution_count": 24,
   "id": "6cfd1a8a-2dc0-4811-a9da-480f5324920f",
   "metadata": {},
   "outputs": [
    {
     "name": "stdout",
     "output_type": "stream",
     "text": [
      "\n",
      "DISPLAY DESCRIPTIVE STATISTICS\n",
      "\n",
      "                    count          mean           std    min       25%  \\\n",
      "id                 1349.0  36312.736101  21110.940096  84.00  17351.00   \n",
      "age                1349.0     46.943158     22.828738   0.24     29.00   \n",
      "hypertension       1349.0      0.121572      0.326911   0.00      0.00   \n",
      "heart_disease      1349.0      0.071905      0.258427   0.00      0.00   \n",
      "avg_glucose_level  1349.0    110.137865     48.555733  55.22     77.93   \n",
      "bmi                1277.0     29.587706      7.903729  12.00     24.20   \n",
      "stroke             1349.0      0.184581      0.388101   0.00      0.00   \n",
      "\n",
      "                        50%       75%       max  \n",
      "id                 36561.00  54620.00  72918.00  \n",
      "age                   50.00     66.00     82.00  \n",
      "hypertension           0.00      0.00      1.00  \n",
      "heart_disease          0.00      0.00      1.00  \n",
      "avg_glucose_level     93.74    118.82    271.74  \n",
      "bmi                   28.50     33.60     78.00  \n",
      "stroke                 0.00      0.00      1.00  \n"
     ]
    }
   ],
   "source": [
    "print(\"\\nDISPLAY DESCRIPTIVE STATISTICS\\n\")\n",
    "print(df.describe().transpose())"
   ]
  },
  {
   "cell_type": "markdown",
   "id": "1e30e73e-64d7-42f9-80e9-980bdff2b282",
   "metadata": {},
   "source": [
    "Afișăm un grafic ce oferă o statistică asupra numărului de persoanei ce au o anumită vârstă."
   ]
  },
  {
   "cell_type": "code",
   "execution_count": 25,
   "id": "77e48783-c30e-47e3-ad68-be615e6067f0",
   "metadata": {},
   "outputs": [
    {
     "data": {
      "image/png": "[encoded data removed]",
      "text/plain": [
       "<Figure size 864x360 with 1 Axes>"
      ]
     },
     "metadata": {
      "needs_background": "light"
     },
     "output_type": "display_data"
    }
   ],
   "source": [
    "# plot the distribution of the column 'age'\n",
    "plt.figure(figsize=(12, 5))\n",
    "sns.histplot(df['age'], kde=True)\n",
    "plt.show()"
   ]
  },
  {
   "cell_type": "markdown",
   "id": "3b0a6da4-8c63-4d18-833b-d97c2ac5d84a",
   "metadata": {},
   "source": [
    "Afișăm un grafic pentru a vizualiza câte persoane au avut infarct și câte nu:"
   ]
  },
  {
   "cell_type": "code",
   "execution_count": 26,
   "id": "7fb72621-835d-48c9-8d00-e22b1d5ede8c",
   "metadata": {},
   "outputs": [
    {
     "data": {
      "image/png": "[encoded data removed]",
      "text/plain": [
       "<Figure size 432x288 with 1 Axes>"
      ]
     },
     "metadata": {
      "needs_background": "light"
     },
     "output_type": "display_data"
    }
   ],
   "source": [
    "# plot a countplot diagram with stroke/not stroke numbers\n",
    "sns.countplot(x='stroke', data=df)\n",
    "plt.show()"
   ]
  },
  {
   "cell_type": "markdown",
   "id": "a3bc3e4b-8d58-4bd5-8c86-f3367d9292d0",
   "metadata": {},
   "source": [
    "Curățăm datele și ștergem coloana ”id”."
   ]
  },
  {
   "cell_type": "code",
   "execution_count": 27,
   "id": "733e9b19-bbf4-42ad-ae4b-3cca9dfa8116",
   "metadata": {},
   "outputs": [
    {
     "name": "stdout",
     "output_type": "stream",
     "text": [
      "\n",
      "CLEANING THE DATA\n",
      "\n"
     ]
    }
   ],
   "source": [
    "print(\"\\nCLEANING THE DATA\\n\")\n",
    "\n",
    "# drop irrelevant columns ('id')\n",
    "df = df.drop(\"id\", axis=1)"
   ]
  },
  {
   "cell_type": "markdown",
   "id": "57bb7873-12ba-45a2-9b93-cd0bdde50e10",
   "metadata": {},
   "source": [
    "Transformarea valorilor numerice String în tipul de date Float."
   ]
  },
  {
   "cell_type": "code",
   "execution_count": 28,
   "id": "878ed784-42c7-49b4-abdc-dcbe08aa1a2e",
   "metadata": {},
   "outputs": [],
   "source": [
    "# cast columns containing numeric values (but provided as string) to float ('bmi')\n",
    "df[\"bmi\"] = df[\"bmi\"].astype(float)"
   ]
  },
  {
   "cell_type": "markdown",
   "id": "b9d4cc8c-d454-49f7-911e-be536f301add",
   "metadata": {},
   "source": [
    "Ștergem liniile în care ”bmi” este null și ”smoking_status” este ”unknown”, iar dacă după mai există valori ale lui ”bmi” care sunt ”unknown” le înlocuim cu media de pe această coloană."
   ]
  },
  {
   "cell_type": "code",
   "execution_count": 29,
   "id": "f3847c8a-c5f0-42a7-bc71-336d9155f5fc",
   "metadata": {},
   "outputs": [],
   "source": [
    "# remove the rows where bmi is null and smoking_status is unknown\n",
    "df = df[(df[\"bmi\"].notnull()) | (df[\"smoking_status\"] != \"Unknown\")]\n",
    "\n",
    "# if the bmi value is unknown, replace it with the mean value from that column\n",
    "df[\"bmi\"] = df[\"bmi\"].fillna(df[\"bmi\"].mean())"
   ]
  },
  {
   "cell_type": "markdown",
   "id": "fd747f41-b392-4c3e-a101-239bf40fe9b2",
   "metadata": {},
   "source": [
    "Transformăm coloanele de tip String în variabile categoriale:"
   ]
  },
  {
   "cell_type": "code",
   "execution_count": 30,
   "id": "2dc913cd-c78c-48ad-b884-23c427aa23c0",
   "metadata": {},
   "outputs": [],
   "source": [
    "# transform relevant columns containing string values into categorical variables\n",
    "columns_to_transform = [\n",
    "    \"gender\",\n",
    "    \"ever_married\",\n",
    "    \"work_type\",\n",
    "    \"Residence_type\",\n",
    "    \"smoking_status\"\n",
    "]\n",
    "\n",
    "df[columns_to_transform] = df[columns_to_transform].apply(lambda x: x.astype(\"category\").cat.codes)\n"
   ]
  },
  {
   "cell_type": "markdown",
   "id": "1abe023a-b748-4801-9388-344692d27c80",
   "metadata": {},
   "source": [
    "Separăm coloana pe care dorim să o prezicem:"
   ]
  },
  {
   "cell_type": "code",
   "execution_count": 31,
   "id": "29b90095-11ee-4b27-89e1-df2c4319e5a8",
   "metadata": {},
   "outputs": [],
   "source": [
    "# separate the characteristics of the target variable\n",
    "X = df.drop(\"stroke\", axis=1)\n",
    "y = df[\"stroke\"]"
   ]
  },
  {
   "cell_type": "markdown",
   "id": "d27fc34f-9816-4c64-9e03-b05aec2c5cd4",
   "metadata": {},
   "source": [
    "Împărțim datele în test și train."
   ]
  },
  {
   "cell_type": "code",
   "execution_count": 32,
   "id": "743f0ea2-ace7-4f8b-b8cf-b24a9fb1d924",
   "metadata": {},
   "outputs": [],
   "source": [
    "# divide the dataset into train and test subsets\n",
    "X_train, X_test, y_train, y_test = train_test_split(X, y, test_size=0.3, random_state=101)"
   ]
  },
  {
   "cell_type": "markdown",
   "id": "73d1892a-bf5a-4728-a8a9-3d66ddefacbc",
   "metadata": {},
   "source": [
    "Folosim MinMaxScaler pentru a normaliza datele."
   ]
  },
  {
   "cell_type": "code",
   "execution_count": 33,
   "id": "78eff8ae-c33a-4304-baf7-c4d4a29065ac",
   "metadata": {},
   "outputs": [],
   "source": [
    "# feature scaling\n",
    "scaler = MinMaxScaler()\n",
    "scaler.fit(X_train)\n",
    "X_train = scaler.transform(X_train)\n",
    "X_test = scaler.transform(X_test)"
   ]
  },
  {
   "cell_type": "markdown",
   "id": "4d8477ec-cf70-40c2-9faa-222a1bd80d62",
   "metadata": {},
   "source": [
    "A fost folosit modelul de clasificare Sequential. \n",
    "Am afișat o rețea neuronală cu două straturi ce are 30 de neuroni la fiecare strat, folosind funcția de activare ReLU”.\n",
    "Am folosit straturi de Dropout pentru a evita overfitting-ul. Pentru stratul de input ar trebui folosită o valoare între 0.5 și 0.8 pentru rezultate optime, iar valoarea optimă pentru stratul ascuns ar fi în jur de 0.5.\n",
    "Pentru stratul de ieșire a fost folosită funcția de activare ”sigmoid”, deoarece este cel mai des folosită pentru clasificarea binară."
   ]
  },
  {
   "cell_type": "code",
   "execution_count": 34,
   "id": "6f3ec4c4-653c-441a-841a-09eea05413a6",
   "metadata": {},
   "outputs": [
    {
     "name": "stdout",
     "output_type": "stream",
     "text": [
      "----CLASSIFICATION USING SEQUENTIAL MODEL----\n",
      "\n",
      "Model: \"sequential\"\n",
      "_________________________________________________________________\n",
      " Layer (type)                Output Shape              Param #   \n",
      "=================================================================\n",
      " dense (Dense)               (None, 30)                330       \n",
      "                                                                 \n",
      " dropout (Dropout)           (None, 30)                0         \n",
      "                                                                 \n",
      " dense_1 (Dense)             (None, 30)                930       \n",
      "                                                                 \n",
      " dropout_1 (Dropout)         (None, 30)                0         \n",
      "                                                                 \n",
      " dense_2 (Dense)             (None, 1)                 31        \n",
      "                                                                 \n",
      "=================================================================\n",
      "Total params: 1,291\n",
      "Trainable params: 1,291\n",
      "Non-trainable params: 0\n",
      "_________________________________________________________________\n",
      "None\n"
     ]
    }
   ],
   "source": [
    "print(\"----CLASSIFICATION USING SEQUENTIAL MODEL----\\n\")\n",
    "\n",
    "model = Sequential()\n",
    "model.add(Dense(units=30, activation='relu', input_shape=(10,)))  # first layer\n",
    "model.add(Dropout(0.6))  # used to avoid overfitting (input layer - best between 0.5 - 0.8)\n",
    "model.add(Dense(units=30, activation='relu'))  # second layer\n",
    "model.add(Dropout(0.5))  # used to avoid overfitting (hidden layer - best ~0.5)\n",
    "model.add(Dense(units=1, activation='sigmoid'))  # output layer - use sigmoid because it is a binary classification\n",
    "print(model.summary())"
   ]
  },
  {
   "cell_type": "markdown",
   "id": "1d630a57-85e7-4c8c-94f9-07289091056e",
   "metadata": {},
   "source": [
    "Compilăm modelul, folosind funcția de optimizare ”nadam”. S-a folosit EarlyStopping pentru a se evita overfitting-ul. Am antrenat modelul pentru 150 de epoci și observăm că modelul se oprește mai devreme din cauza folosirii funcției EarlyStopping."
   ]
  },
  {
   "cell_type": "code",
   "execution_count": 35,
   "id": "626a3d44-574e-4ccb-bdbe-df34be457c96",
   "metadata": {},
   "outputs": [
    {
     "name": "stdout",
     "output_type": "stream",
     "text": [
      "Epoch 1/150\n",
      "29/29 [==============================] - 1s 8ms/step - loss: 0.5862 - accuracy: 0.7603 - val_loss: 0.5679 - val_accuracy: 0.7985\n",
      "Epoch 2/150\n",
      "29/29 [==============================] - 0s 2ms/step - loss: 0.5403 - accuracy: 0.8132 - val_loss: 0.5384 - val_accuracy: 0.7985\n",
      "Epoch 3/150\n",
      "29/29 [==============================] - 0s 2ms/step - loss: 0.5307 - accuracy: 0.8272 - val_loss: 0.5278 - val_accuracy: 0.7985\n",
      "Epoch 4/150\n",
      "29/29 [==============================] - 0s 2ms/step - loss: 0.5142 - accuracy: 0.8315 - val_loss: 0.5187 - val_accuracy: 0.7985\n",
      "Epoch 5/150\n",
      "29/29 [==============================] - 0s 2ms/step - loss: 0.5142 - accuracy: 0.8348 - val_loss: 0.5114 - val_accuracy: 0.7985\n",
      "Epoch 6/150\n",
      "29/29 [==============================] - 0s 2ms/step - loss: 0.4863 - accuracy: 0.8305 - val_loss: 0.5039 - val_accuracy: 0.7985\n",
      "Epoch 7/150\n",
      "29/29 [==============================] - 0s 2ms/step - loss: 0.4863 - accuracy: 0.8348 - val_loss: 0.4983 - val_accuracy: 0.7985\n",
      "Epoch 8/150\n",
      "29/29 [==============================] - 0s 2ms/step - loss: 0.4616 - accuracy: 0.8337 - val_loss: 0.4928 - val_accuracy: 0.7985\n",
      "Epoch 9/150\n",
      "29/29 [==============================] - 0s 2ms/step - loss: 0.4575 - accuracy: 0.8359 - val_loss: 0.4866 - val_accuracy: 0.7985\n",
      "Epoch 10/150\n",
      "29/29 [==============================] - 0s 2ms/step - loss: 0.4544 - accuracy: 0.8359 - val_loss: 0.4816 - val_accuracy: 0.7985\n",
      "Epoch 11/150\n",
      "29/29 [==============================] - 0s 2ms/step - loss: 0.4405 - accuracy: 0.8359 - val_loss: 0.4771 - val_accuracy: 0.7985\n",
      "Epoch 12/150\n",
      "29/29 [==============================] - 0s 2ms/step - loss: 0.4409 - accuracy: 0.8359 - val_loss: 0.4733 - val_accuracy: 0.7985\n",
      "Epoch 13/150\n",
      "29/29 [==============================] - 0s 2ms/step - loss: 0.4357 - accuracy: 0.8369 - val_loss: 0.4688 - val_accuracy: 0.7985\n",
      "Epoch 14/150\n",
      "29/29 [==============================] - 0s 2ms/step - loss: 0.4483 - accuracy: 0.8348 - val_loss: 0.4632 - val_accuracy: 0.7985\n",
      "Epoch 15/150\n",
      "29/29 [==============================] - 0s 2ms/step - loss: 0.4301 - accuracy: 0.8369 - val_loss: 0.4603 - val_accuracy: 0.7985\n",
      "Epoch 16/150\n",
      "29/29 [==============================] - 0s 2ms/step - loss: 0.4163 - accuracy: 0.8369 - val_loss: 0.4578 - val_accuracy: 0.7985\n",
      "Epoch 17/150\n",
      "29/29 [==============================] - 0s 2ms/step - loss: 0.4263 - accuracy: 0.8369 - val_loss: 0.4545 - val_accuracy: 0.7985\n",
      "Epoch 18/150\n",
      "29/29 [==============================] - 0s 2ms/step - loss: 0.4039 - accuracy: 0.8380 - val_loss: 0.4536 - val_accuracy: 0.7985\n",
      "Epoch 19/150\n",
      "29/29 [==============================] - 0s 2ms/step - loss: 0.4133 - accuracy: 0.8402 - val_loss: 0.4515 - val_accuracy: 0.7985\n",
      "Epoch 20/150\n",
      "29/29 [==============================] - 0s 2ms/step - loss: 0.4053 - accuracy: 0.8391 - val_loss: 0.4505 - val_accuracy: 0.7985\n",
      "Epoch 21/150\n",
      "29/29 [==============================] - 0s 2ms/step - loss: 0.4095 - accuracy: 0.8423 - val_loss: 0.4486 - val_accuracy: 0.7985\n",
      "Epoch 22/150\n",
      "29/29 [==============================] - 0s 2ms/step - loss: 0.4050 - accuracy: 0.8380 - val_loss: 0.4461 - val_accuracy: 0.7985\n",
      "Epoch 23/150\n",
      "29/29 [==============================] - 0s 2ms/step - loss: 0.4057 - accuracy: 0.8348 - val_loss: 0.4425 - val_accuracy: 0.7985\n",
      "Epoch 24/150\n",
      "29/29 [==============================] - 0s 2ms/step - loss: 0.4209 - accuracy: 0.8348 - val_loss: 0.4409 - val_accuracy: 0.7985\n",
      "Epoch 25/150\n",
      "29/29 [==============================] - 0s 2ms/step - loss: 0.3949 - accuracy: 0.8369 - val_loss: 0.4414 - val_accuracy: 0.7985\n",
      "Epoch 26/150\n",
      "29/29 [==============================] - 0s 2ms/step - loss: 0.4037 - accuracy: 0.8348 - val_loss: 0.4417 - val_accuracy: 0.7985\n",
      "Epoch 27/150\n",
      "29/29 [==============================] - 0s 2ms/step - loss: 0.3901 - accuracy: 0.8359 - val_loss: 0.4383 - val_accuracy: 0.7985\n",
      "Epoch 28/150\n",
      "29/29 [==============================] - 0s 2ms/step - loss: 0.3950 - accuracy: 0.8369 - val_loss: 0.4369 - val_accuracy: 0.7985\n",
      "Epoch 29/150\n",
      "29/29 [==============================] - 0s 2ms/step - loss: 0.3944 - accuracy: 0.8380 - val_loss: 0.4351 - val_accuracy: 0.7985\n",
      "Epoch 30/150\n",
      "29/29 [==============================] - 0s 2ms/step - loss: 0.3991 - accuracy: 0.8337 - val_loss: 0.4330 - val_accuracy: 0.7985\n",
      "Epoch 31/150\n",
      "29/29 [==============================] - 0s 2ms/step - loss: 0.3886 - accuracy: 0.8359 - val_loss: 0.4313 - val_accuracy: 0.7985\n",
      "Epoch 32/150\n",
      "29/29 [==============================] - 0s 2ms/step - loss: 0.3880 - accuracy: 0.8337 - val_loss: 0.4319 - val_accuracy: 0.7985\n",
      "Epoch 33/150\n",
      "29/29 [==============================] - 0s 2ms/step - loss: 0.3879 - accuracy: 0.8413 - val_loss: 0.4330 - val_accuracy: 0.7985\n",
      "Epoch 34/150\n",
      "29/29 [==============================] - 0s 2ms/step - loss: 0.3868 - accuracy: 0.8391 - val_loss: 0.4317 - val_accuracy: 0.8010\n",
      "Epoch 35/150\n",
      "29/29 [==============================] - 0s 2ms/step - loss: 0.3877 - accuracy: 0.8380 - val_loss: 0.4287 - val_accuracy: 0.8010\n",
      "Epoch 36/150\n",
      "29/29 [==============================] - 0s 2ms/step - loss: 0.3846 - accuracy: 0.8380 - val_loss: 0.4287 - val_accuracy: 0.8010\n",
      "Epoch 37/150\n",
      "29/29 [==============================] - 0s 2ms/step - loss: 0.3809 - accuracy: 0.8369 - val_loss: 0.4311 - val_accuracy: 0.8010\n",
      "Epoch 38/150\n",
      "29/29 [==============================] - 0s 2ms/step - loss: 0.3868 - accuracy: 0.8413 - val_loss: 0.4257 - val_accuracy: 0.8010\n",
      "Epoch 39/150\n",
      "29/29 [==============================] - 0s 2ms/step - loss: 0.3750 - accuracy: 0.8402 - val_loss: 0.4246 - val_accuracy: 0.8010\n",
      "Epoch 40/150\n",
      "29/29 [==============================] - 0s 2ms/step - loss: 0.3712 - accuracy: 0.8445 - val_loss: 0.4231 - val_accuracy: 0.8010\n",
      "Epoch 41/150\n",
      "29/29 [==============================] - 0s 2ms/step - loss: 0.3759 - accuracy: 0.8359 - val_loss: 0.4203 - val_accuracy: 0.8035\n",
      "Epoch 42/150\n",
      "29/29 [==============================] - 0s 2ms/step - loss: 0.3755 - accuracy: 0.8359 - val_loss: 0.4184 - val_accuracy: 0.8010\n",
      "Epoch 43/150\n",
      "29/29 [==============================] - 0s 2ms/step - loss: 0.3734 - accuracy: 0.8337 - val_loss: 0.4168 - val_accuracy: 0.8010\n",
      "Epoch 44/150\n",
      "29/29 [==============================] - 0s 2ms/step - loss: 0.3790 - accuracy: 0.8348 - val_loss: 0.4155 - val_accuracy: 0.8060\n",
      "Epoch 45/150\n",
      "29/29 [==============================] - 0s 2ms/step - loss: 0.3906 - accuracy: 0.8337 - val_loss: 0.4173 - val_accuracy: 0.8010\n",
      "Epoch 46/150\n",
      "29/29 [==============================] - 0s 2ms/step - loss: 0.3695 - accuracy: 0.8369 - val_loss: 0.4185 - val_accuracy: 0.8010\n",
      "Epoch 47/150\n",
      "29/29 [==============================] - 0s 2ms/step - loss: 0.3823 - accuracy: 0.8359 - val_loss: 0.4166 - val_accuracy: 0.8010\n",
      "Epoch 48/150\n",
      "29/29 [==============================] - 0s 2ms/step - loss: 0.3730 - accuracy: 0.8305 - val_loss: 0.4144 - val_accuracy: 0.8010\n",
      "Epoch 49/150\n",
      "29/29 [==============================] - 0s 2ms/step - loss: 0.3746 - accuracy: 0.8326 - val_loss: 0.4116 - val_accuracy: 0.8010\n",
      "Epoch 50/150\n",
      "29/29 [==============================] - 0s 2ms/step - loss: 0.3706 - accuracy: 0.8488 - val_loss: 0.4109 - val_accuracy: 0.8010\n",
      "Epoch 51/150\n",
      "29/29 [==============================] - 0s 2ms/step - loss: 0.3635 - accuracy: 0.8423 - val_loss: 0.4104 - val_accuracy: 0.8010\n",
      "Epoch 52/150\n",
      "29/29 [==============================] - 0s 2ms/step - loss: 0.3671 - accuracy: 0.8359 - val_loss: 0.4100 - val_accuracy: 0.8035\n",
      "Epoch 53/150\n",
      "29/29 [==============================] - 0s 2ms/step - loss: 0.3602 - accuracy: 0.8488 - val_loss: 0.4092 - val_accuracy: 0.8060\n",
      "Epoch 54/150\n",
      "29/29 [==============================] - 0s 2ms/step - loss: 0.3716 - accuracy: 0.8413 - val_loss: 0.4091 - val_accuracy: 0.8060\n",
      "Epoch 55/150\n",
      "29/29 [==============================] - 0s 2ms/step - loss: 0.3556 - accuracy: 0.8337 - val_loss: 0.4086 - val_accuracy: 0.8060\n",
      "Epoch 56/150\n",
      "29/29 [==============================] - 0s 2ms/step - loss: 0.3727 - accuracy: 0.8456 - val_loss: 0.4087 - val_accuracy: 0.8060\n",
      "Epoch 57/150\n",
      "29/29 [==============================] - 0s 2ms/step - loss: 0.3601 - accuracy: 0.8402 - val_loss: 0.4064 - val_accuracy: 0.8086\n",
      "Epoch 58/150\n",
      "29/29 [==============================] - 0s 2ms/step - loss: 0.3502 - accuracy: 0.8521 - val_loss: 0.4045 - val_accuracy: 0.8111\n",
      "Epoch 59/150\n",
      "29/29 [==============================] - 0s 2ms/step - loss: 0.3562 - accuracy: 0.8467 - val_loss: 0.4033 - val_accuracy: 0.8111\n",
      "Epoch 60/150\n",
      "29/29 [==============================] - 0s 2ms/step - loss: 0.3661 - accuracy: 0.8402 - val_loss: 0.4027 - val_accuracy: 0.8111\n",
      "Epoch 61/150\n",
      "29/29 [==============================] - 0s 2ms/step - loss: 0.3686 - accuracy: 0.8434 - val_loss: 0.4015 - val_accuracy: 0.8111\n",
      "Epoch 62/150\n",
      "29/29 [==============================] - 0s 2ms/step - loss: 0.3639 - accuracy: 0.8380 - val_loss: 0.4008 - val_accuracy: 0.8111\n",
      "Epoch 63/150\n",
      "29/29 [==============================] - 0s 2ms/step - loss: 0.3673 - accuracy: 0.8477 - val_loss: 0.3997 - val_accuracy: 0.8111\n",
      "Epoch 64/150\n",
      "29/29 [==============================] - 0s 2ms/step - loss: 0.3723 - accuracy: 0.8337 - val_loss: 0.3999 - val_accuracy: 0.8111\n",
      "Epoch 65/150\n",
      "29/29 [==============================] - 0s 2ms/step - loss: 0.3575 - accuracy: 0.8402 - val_loss: 0.4001 - val_accuracy: 0.8111\n",
      "Epoch 66/150\n",
      "29/29 [==============================] - 0s 2ms/step - loss: 0.3626 - accuracy: 0.8434 - val_loss: 0.4021 - val_accuracy: 0.8111\n",
      "Epoch 67/150\n",
      "29/29 [==============================] - 0s 2ms/step - loss: 0.3545 - accuracy: 0.8380 - val_loss: 0.4016 - val_accuracy: 0.8111\n",
      "Epoch 68/150\n",
      "29/29 [==============================] - 0s 2ms/step - loss: 0.3568 - accuracy: 0.8413 - val_loss: 0.4019 - val_accuracy: 0.8086\n",
      "Epoch 69/150\n",
      "29/29 [==============================] - 0s 2ms/step - loss: 0.3720 - accuracy: 0.8402 - val_loss: 0.4000 - val_accuracy: 0.8111\n",
      "Epoch 70/150\n",
      "29/29 [==============================] - 0s 3ms/step - loss: 0.3591 - accuracy: 0.8348 - val_loss: 0.4010 - val_accuracy: 0.8111\n",
      "Epoch 71/150\n",
      "29/29 [==============================] - 0s 2ms/step - loss: 0.3648 - accuracy: 0.8477 - val_loss: 0.3999 - val_accuracy: 0.8111\n",
      "Epoch 72/150\n",
      "29/29 [==============================] - 0s 2ms/step - loss: 0.3476 - accuracy: 0.8445 - val_loss: 0.4010 - val_accuracy: 0.8111\n",
      "Epoch 73/150\n",
      "29/29 [==============================] - 0s 2ms/step - loss: 0.3480 - accuracy: 0.8510 - val_loss: 0.3993 - val_accuracy: 0.8111\n",
      "Epoch 74/150\n",
      "29/29 [==============================] - 0s 2ms/step - loss: 0.3629 - accuracy: 0.8359 - val_loss: 0.3989 - val_accuracy: 0.8111\n",
      "Epoch 75/150\n",
      "29/29 [==============================] - 0s 2ms/step - loss: 0.3593 - accuracy: 0.8369 - val_loss: 0.3984 - val_accuracy: 0.8111\n",
      "Epoch 76/150\n",
      "29/29 [==============================] - 0s 2ms/step - loss: 0.3673 - accuracy: 0.8359 - val_loss: 0.3989 - val_accuracy: 0.8111\n",
      "Epoch 77/150\n",
      "29/29 [==============================] - 0s 2ms/step - loss: 0.3516 - accuracy: 0.8445 - val_loss: 0.3996 - val_accuracy: 0.8111\n",
      "Epoch 78/150\n",
      "29/29 [==============================] - 0s 2ms/step - loss: 0.3564 - accuracy: 0.8369 - val_loss: 0.3969 - val_accuracy: 0.8111\n",
      "Epoch 79/150\n",
      "29/29 [==============================] - 0s 2ms/step - loss: 0.3445 - accuracy: 0.8423 - val_loss: 0.3959 - val_accuracy: 0.8111\n",
      "Epoch 80/150\n",
      "29/29 [==============================] - 0s 2ms/step - loss: 0.3516 - accuracy: 0.8456 - val_loss: 0.3945 - val_accuracy: 0.8136\n",
      "Epoch 81/150\n",
      "29/29 [==============================] - 0s 2ms/step - loss: 0.3465 - accuracy: 0.8521 - val_loss: 0.3969 - val_accuracy: 0.8161\n",
      "Epoch 82/150\n",
      "29/29 [==============================] - 0s 2ms/step - loss: 0.3457 - accuracy: 0.8445 - val_loss: 0.3999 - val_accuracy: 0.8161\n",
      "Epoch 83/150\n",
      "29/29 [==============================] - 0s 2ms/step - loss: 0.3590 - accuracy: 0.8369 - val_loss: 0.4011 - val_accuracy: 0.8111\n",
      "Epoch 84/150\n",
      "29/29 [==============================] - 0s 2ms/step - loss: 0.3415 - accuracy: 0.8510 - val_loss: 0.3988 - val_accuracy: 0.8111\n",
      "Epoch 85/150\n",
      "29/29 [==============================] - 0s 2ms/step - loss: 0.3525 - accuracy: 0.8391 - val_loss: 0.3985 - val_accuracy: 0.8111\n",
      "Epoch 86/150\n",
      "29/29 [==============================] - 0s 2ms/step - loss: 0.3425 - accuracy: 0.8477 - val_loss: 0.3977 - val_accuracy: 0.8111\n",
      "Epoch 87/150\n",
      "29/29 [==============================] - 0s 2ms/step - loss: 0.3360 - accuracy: 0.8575 - val_loss: 0.3963 - val_accuracy: 0.8186\n",
      "Epoch 88/150\n",
      "29/29 [==============================] - 0s 2ms/step - loss: 0.3453 - accuracy: 0.8391 - val_loss: 0.3956 - val_accuracy: 0.8212\n",
      "Epoch 89/150\n",
      "29/29 [==============================] - 0s 2ms/step - loss: 0.3401 - accuracy: 0.8391 - val_loss: 0.3944 - val_accuracy: 0.8186\n",
      "Epoch 90/150\n",
      "29/29 [==============================] - 0s 2ms/step - loss: 0.3346 - accuracy: 0.8369 - val_loss: 0.3938 - val_accuracy: 0.8186\n",
      "Epoch 91/150\n",
      "29/29 [==============================] - 0s 2ms/step - loss: 0.3466 - accuracy: 0.8380 - val_loss: 0.3971 - val_accuracy: 0.8136\n",
      "Epoch 92/150\n",
      "29/29 [==============================] - 0s 2ms/step - loss: 0.3379 - accuracy: 0.8467 - val_loss: 0.3975 - val_accuracy: 0.8161\n",
      "Epoch 93/150\n",
      "29/29 [==============================] - 0s 2ms/step - loss: 0.3590 - accuracy: 0.8380 - val_loss: 0.3964 - val_accuracy: 0.8161\n",
      "Epoch 94/150\n",
      "29/29 [==============================] - 0s 2ms/step - loss: 0.3383 - accuracy: 0.8402 - val_loss: 0.3959 - val_accuracy: 0.8161\n",
      "Epoch 95/150\n",
      "29/29 [==============================] - 0s 2ms/step - loss: 0.3416 - accuracy: 0.8391 - val_loss: 0.3960 - val_accuracy: 0.8212\n",
      "Epoch 96/150\n",
      "29/29 [==============================] - 0s 2ms/step - loss: 0.3387 - accuracy: 0.8445 - val_loss: 0.3950 - val_accuracy: 0.8186\n",
      "Epoch 97/150\n",
      "29/29 [==============================] - 0s 2ms/step - loss: 0.3400 - accuracy: 0.8488 - val_loss: 0.3946 - val_accuracy: 0.8186\n",
      "Epoch 98/150\n",
      "29/29 [==============================] - 0s 2ms/step - loss: 0.3406 - accuracy: 0.8445 - val_loss: 0.3969 - val_accuracy: 0.8186\n",
      "Epoch 99/150\n",
      "29/29 [==============================] - 0s 2ms/step - loss: 0.3383 - accuracy: 0.8434 - val_loss: 0.3984 - val_accuracy: 0.8212\n",
      "Epoch 100/150\n",
      "29/29 [==============================] - 0s 2ms/step - loss: 0.3442 - accuracy: 0.8456 - val_loss: 0.3969 - val_accuracy: 0.8212\n",
      "Epoch 101/150\n",
      "29/29 [==============================] - 0s 2ms/step - loss: 0.3461 - accuracy: 0.8456 - val_loss: 0.3973 - val_accuracy: 0.8212\n",
      "Epoch 102/150\n",
      "29/29 [==============================] - 0s 2ms/step - loss: 0.3553 - accuracy: 0.8488 - val_loss: 0.3979 - val_accuracy: 0.8186\n",
      "Epoch 103/150\n",
      "29/29 [==============================] - 0s 2ms/step - loss: 0.3376 - accuracy: 0.8380 - val_loss: 0.3992 - val_accuracy: 0.8161\n",
      "Epoch 104/150\n",
      "29/29 [==============================] - 0s 2ms/step - loss: 0.3388 - accuracy: 0.8413 - val_loss: 0.3965 - val_accuracy: 0.8161\n",
      "Epoch 105/150\n",
      "29/29 [==============================] - 0s 2ms/step - loss: 0.3511 - accuracy: 0.8434 - val_loss: 0.3973 - val_accuracy: 0.8186\n",
      "Epoch 106/150\n",
      "29/29 [==============================] - 0s 2ms/step - loss: 0.3344 - accuracy: 0.8423 - val_loss: 0.3956 - val_accuracy: 0.8186\n",
      "Epoch 107/150\n",
      "29/29 [==============================] - 0s 2ms/step - loss: 0.3449 - accuracy: 0.8434 - val_loss: 0.3967 - val_accuracy: 0.8186\n",
      "Epoch 108/150\n",
      "29/29 [==============================] - 0s 2ms/step - loss: 0.3204 - accuracy: 0.8456 - val_loss: 0.3999 - val_accuracy: 0.8136\n",
      "Epoch 109/150\n",
      "29/29 [==============================] - 0s 2ms/step - loss: 0.3432 - accuracy: 0.8510 - val_loss: 0.3950 - val_accuracy: 0.8212\n",
      "Epoch 110/150\n",
      "29/29 [==============================] - 0s 2ms/step - loss: 0.3378 - accuracy: 0.8413 - val_loss: 0.3955 - val_accuracy: 0.8212\n",
      "Epoch 111/150\n",
      "29/29 [==============================] - 0s 2ms/step - loss: 0.3315 - accuracy: 0.8456 - val_loss: 0.3966 - val_accuracy: 0.8212\n",
      "Epoch 112/150\n",
      "29/29 [==============================] - 0s 2ms/step - loss: 0.3434 - accuracy: 0.8423 - val_loss: 0.3983 - val_accuracy: 0.8212\n",
      "Epoch 113/150\n",
      "29/29 [==============================] - 0s 2ms/step - loss: 0.3412 - accuracy: 0.8402 - val_loss: 0.3985 - val_accuracy: 0.8186\n",
      "Epoch 114/150\n",
      "29/29 [==============================] - 0s 2ms/step - loss: 0.3366 - accuracy: 0.8456 - val_loss: 0.3937 - val_accuracy: 0.8212\n",
      "Epoch 115/150\n",
      "29/29 [==============================] - 0s 2ms/step - loss: 0.3448 - accuracy: 0.8413 - val_loss: 0.3955 - val_accuracy: 0.8212\n",
      "Epoch 116/150\n",
      "29/29 [==============================] - 0s 2ms/step - loss: 0.3294 - accuracy: 0.8499 - val_loss: 0.3948 - val_accuracy: 0.8212\n",
      "Epoch 117/150\n",
      "29/29 [==============================] - 0s 2ms/step - loss: 0.3493 - accuracy: 0.8391 - val_loss: 0.3928 - val_accuracy: 0.8212\n",
      "Epoch 118/150\n",
      "29/29 [==============================] - 0s 2ms/step - loss: 0.3349 - accuracy: 0.8521 - val_loss: 0.3967 - val_accuracy: 0.8212\n",
      "Epoch 119/150\n",
      "29/29 [==============================] - 0s 2ms/step - loss: 0.3313 - accuracy: 0.8456 - val_loss: 0.3961 - val_accuracy: 0.8212\n",
      "Epoch 120/150\n",
      "29/29 [==============================] - 0s 2ms/step - loss: 0.3249 - accuracy: 0.8456 - val_loss: 0.3974 - val_accuracy: 0.8212\n",
      "Epoch 121/150\n",
      "29/29 [==============================] - 0s 2ms/step - loss: 0.3437 - accuracy: 0.8434 - val_loss: 0.3969 - val_accuracy: 0.8237\n",
      "Epoch 122/150\n",
      "29/29 [==============================] - 0s 2ms/step - loss: 0.3361 - accuracy: 0.8402 - val_loss: 0.3992 - val_accuracy: 0.8237\n",
      "Epoch 123/150\n",
      "29/29 [==============================] - 0s 2ms/step - loss: 0.3283 - accuracy: 0.8456 - val_loss: 0.3961 - val_accuracy: 0.8237\n",
      "Epoch 124/150\n",
      "29/29 [==============================] - 0s 2ms/step - loss: 0.3339 - accuracy: 0.8521 - val_loss: 0.3961 - val_accuracy: 0.8237\n",
      "Epoch 125/150\n",
      "29/29 [==============================] - 0s 2ms/step - loss: 0.3357 - accuracy: 0.8488 - val_loss: 0.3996 - val_accuracy: 0.8212\n",
      "Epoch 126/150\n",
      "29/29 [==============================] - 0s 2ms/step - loss: 0.3341 - accuracy: 0.8467 - val_loss: 0.3997 - val_accuracy: 0.8212\n",
      "Epoch 127/150\n",
      "29/29 [==============================] - 0s 2ms/step - loss: 0.3271 - accuracy: 0.8456 - val_loss: 0.3972 - val_accuracy: 0.8212\n",
      "Epoch 128/150\n",
      "29/29 [==============================] - 0s 2ms/step - loss: 0.3237 - accuracy: 0.8553 - val_loss: 0.4004 - val_accuracy: 0.8212\n",
      "Epoch 129/150\n",
      "29/29 [==============================] - 0s 2ms/step - loss: 0.3368 - accuracy: 0.8564 - val_loss: 0.3993 - val_accuracy: 0.8212\n",
      "Epoch 130/150\n",
      "29/29 [==============================] - 0s 2ms/step - loss: 0.3242 - accuracy: 0.8467 - val_loss: 0.3979 - val_accuracy: 0.8212\n",
      "Epoch 131/150\n",
      "29/29 [==============================] - 0s 2ms/step - loss: 0.3310 - accuracy: 0.8564 - val_loss: 0.4008 - val_accuracy: 0.8212\n",
      "Epoch 132/150\n",
      "29/29 [==============================] - 0s 2ms/step - loss: 0.3262 - accuracy: 0.8477 - val_loss: 0.4027 - val_accuracy: 0.8212\n",
      "Epoch 133/150\n",
      "29/29 [==============================] - 0s 2ms/step - loss: 0.3482 - accuracy: 0.8402 - val_loss: 0.3972 - val_accuracy: 0.8212\n",
      "Epoch 134/150\n",
      "29/29 [==============================] - 0s 2ms/step - loss: 0.3375 - accuracy: 0.8467 - val_loss: 0.3972 - val_accuracy: 0.8212\n",
      "Epoch 135/150\n",
      "29/29 [==============================] - 0s 2ms/step - loss: 0.3331 - accuracy: 0.8488 - val_loss: 0.3977 - val_accuracy: 0.8212\n",
      "Epoch 136/150\n",
      "29/29 [==============================] - 0s 2ms/step - loss: 0.3238 - accuracy: 0.8510 - val_loss: 0.3981 - val_accuracy: 0.8212\n",
      "Epoch 137/150\n",
      "29/29 [==============================] - 0s 3ms/step - loss: 0.3405 - accuracy: 0.8488 - val_loss: 0.3978 - val_accuracy: 0.8212\n",
      "Epoch 138/150\n",
      "29/29 [==============================] - 0s 2ms/step - loss: 0.3187 - accuracy: 0.8510 - val_loss: 0.3995 - val_accuracy: 0.8212\n",
      "Epoch 139/150\n",
      "29/29 [==============================] - 0s 2ms/step - loss: 0.3208 - accuracy: 0.8456 - val_loss: 0.3999 - val_accuracy: 0.8237\n",
      "Epoch 140/150\n",
      "29/29 [==============================] - 0s 2ms/step - loss: 0.3256 - accuracy: 0.8499 - val_loss: 0.3979 - val_accuracy: 0.8237\n",
      "Epoch 141/150\n",
      "29/29 [==============================] - 0s 2ms/step - loss: 0.3302 - accuracy: 0.8467 - val_loss: 0.3976 - val_accuracy: 0.8237\n",
      "Epoch 142/150\n",
      "29/29 [==============================] - 0s 2ms/step - loss: 0.3161 - accuracy: 0.8521 - val_loss: 0.3965 - val_accuracy: 0.8237\n",
      "Epoch 142: early stopping\n"
     ]
    }
   ],
   "source": [
    "model.compile(optimizer='nadam', loss='binary_crossentropy', metrics=['accuracy'])\n",
    "\n",
    "# use EarlyStopping to avoid overfitting\n",
    "early_stop = EarlyStopping(monitor='val_loss', mode='min', verbose=1, patience=25)\n",
    "\n",
    "history = model.fit(x=X_train,\n",
    "                    y=y_train,\n",
    "                    epochs=150,\n",
    "                    validation_data=(X_test, y_test),\n",
    "                    verbose=1,\n",
    "                    callbacks=[early_stop]\n",
    "                    )"
   ]
  },
  {
   "cell_type": "markdown",
   "id": "4b19f0f6-d320-41fb-a51d-499704554d40",
   "metadata": {},
   "source": [
    "Afișăm raportul clasificării, afișând valorile precision, recall, f1-score atât pentru prezicerile valorii 0 (nu există infarct), cât și pentru prezicerea valorii 1 (există infarct). Acuratețea totală a modelul este de 0.8."
   ]
  },
  {
   "cell_type": "code",
   "execution_count": 36,
   "id": "8b05741f-1a2b-4988-982a-b2631f8365a9",
   "metadata": {},
   "outputs": [
    {
     "name": "stdout",
     "output_type": "stream",
     "text": [
      "\n",
      "DISPLAY THE CLASSIFICATION REPORT\n",
      "\n",
      "13/13 [==============================] - 0s 878us/step\n",
      "              precision    recall  f1-score   support\n",
      "\n",
      "           0       0.82      0.99      0.90       317\n",
      "           1       0.86      0.15      0.26        80\n",
      "\n",
      "    accuracy                           0.82       397\n",
      "   macro avg       0.84      0.57      0.58       397\n",
      "weighted avg       0.83      0.82      0.77       397\n",
      "\n"
     ]
    }
   ],
   "source": [
    "print(\"\\nDISPLAY THE CLASSIFICATION REPORT\\n\")\n",
    "\n",
    "y_pred = (model.predict(X_test) > 0.5).reshape((-1,))\n",
    "print(classification_report(y_test, y_pred))"
   ]
  }
 ],
 "metadata": {
  "kernelspec": {
   "display_name": "Python 3 (ipykernel)",
   "language": "python",
   "name": "python3"
  },
  "language_info": {
   "codemirror_mode": {
    "name": "ipython",
    "version": 3
   },
   "file_extension": ".py",
   "mimetype": "text/x-python",
   "name": "python",
   "nbconvert_exporter": "python",
   "pygments_lexer": "ipython3",
   "version": "3.9.12"
  }
 },
 "nbformat": 4,
 "nbformat_minor": 5
}
